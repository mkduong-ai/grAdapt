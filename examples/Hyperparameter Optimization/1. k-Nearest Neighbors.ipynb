{
 "cells": [
  {
   "cell_type": "code",
   "execution_count": 1,
   "metadata": {},
   "outputs": [],
   "source": [
    "import numpy as np\n",
    "import matplotlib.pyplot as plt\n",
    "from sklearn.neighbors import KNeighborsClassifier\n",
    "\n",
    "# grAdapt\n",
    "import grAdapt\n",
    "from grAdapt.models import Sequential\n",
    "from grAdapt.optimizer import AMSGrad\n",
    "from grAdapt.surrogate import GPRSlidingWindow\n",
    "from grAdapt.space.datatype import Integer, Float, Categorical"
   ]
  },
  {
   "cell_type": "markdown",
   "metadata": {},
   "source": [
    "## 1. Introduction\n",
    "This is a brief tutorial on how to tune hyperparameters of k-nearest neighbors (KNN) with **grAdapt**. KNN takes up one integer hyperparameter.\n",
    "\n",
    "### 1.1 Data Set\n",
    "For the data set, we will use the **Optical Recognition of Handwritten Digits Data Set** (https://archive.ics.uci.edu/ml/datasets/Optical+Recognition+of+Handwritten+Digits) as it is small enough to train a classifier fast on it. Though the nature of the developed package is to optimize of float variables, we will take a look at integer optimization."
   ]
  },
  {
   "cell_type": "code",
   "execution_count": 2,
   "metadata": {},
   "outputs": [],
   "source": [
    "import os\n",
    "plot_path = 'plots/knn/'\n",
    "if not os.path.exists(plot_path):\n",
    "    os.makedirs(plot_path)"
   ]
  },
  {
   "cell_type": "code",
   "execution_count": 3,
   "metadata": {},
   "outputs": [
    {
     "name": "stdout",
     "output_type": "stream",
     "text": [
      "(1797, 64)\n"
     ]
    }
   ],
   "source": [
    "from sklearn import datasets, svm, metrics\n",
    "from sklearn.model_selection import train_test_split\n",
    "\n",
    "# The digits dataset\n",
    "digits = datasets.load_digits()\n",
    "\n",
    "# To apply a classifier on this data, we need to flatten the image, to\n",
    "# turn the data in a (samples, feature) matrix:\n",
    "n_samples = len(digits.images)\n",
    "data = digits.images.reshape((n_samples, -1))\n",
    "\n",
    "print(data.shape)\n",
    "\n",
    "# Split data into train and validation subsets\n",
    "X_train, X_val, y_train, y_val = train_test_split(\n",
    "    data, digits.target, test_size=0.2, shuffle=False)"
   ]
  },
  {
   "cell_type": "code",
   "execution_count": 4,
   "metadata": {},
   "outputs": [
    {
     "data": {
      "text/plain": [
       "(1437, 64)"
      ]
     },
     "execution_count": 4,
     "metadata": {},
     "output_type": "execute_result"
    }
   ],
   "source": [
    "X_train.shape"
   ]
  },
  {
   "cell_type": "markdown",
   "metadata": {},
   "source": [
    "## 2. Define Blackbox\n",
    "\n",
    "The intuition behind defining a blackbox function is to fit the classifier to the training set and then returning the validation accuracy. The validation accuracy is to be maximized and the input variables of the blackbox function are the hyperparameters. The hyperparameters are set when creating a classifier instance."
   ]
  },
  {
   "cell_type": "code",
   "execution_count": 5,
   "metadata": {},
   "outputs": [],
   "source": [
    "def knn_opt(n):\n",
    "    # create KNN instance\n",
    "    neigh = KNeighborsClassifier(n_neighbors=n)\n",
    "    \n",
    "    # fit/train\n",
    "    neigh.fit(X_train, y_train)\n",
    "    \n",
    "    \n",
    "    # return validation accuracy\n",
    "    return neigh.score(X_val, y_val)"
   ]
  },
  {
   "cell_type": "markdown",
   "metadata": {},
   "source": [
    "## 3. Hyperparameter Optimization with grAdapt\n",
    "\n",
    "In this section, we are creating a **grAdapt Sequential** model. For brevity, settings of the Sequential model are not demonstrated. We will also take a look how to define search spaces by using **grAdapt Datatypes**.\n",
    "\n",
    "KNN only requires one hyperparameter which is $k$."
   ]
  },
  {
   "cell_type": "code",
   "execution_count": 6,
   "metadata": {},
   "outputs": [],
   "source": [
    "# create base model\n",
    "model = Sequential()\n",
    "# create bounds\n",
    "k_var = Integer(low=1, high=1437)\n",
    "bounds = [k_var]"
   ]
  },
  {
   "cell_type": "code",
   "execution_count": 7,
   "metadata": {},
   "outputs": [
    {
     "name": "stderr",
     "output_type": "stream",
     "text": [
      "\r",
      "  0%|                                                                                          | 0/100 [00:00<?, ?it/s]"
     ]
    },
    {
     "name": "stdout",
     "output_type": "stream",
     "text": [
      "Sampling 14 random points.\n",
      "Random function evaluations. This might take a while.\n"
     ]
    },
    {
     "name": "stderr",
     "output_type": "stream",
     "text": [
      " 16%|████████████▉                                                                    | 16/100 [00:00<00:05, 16.00it/s]"
     ]
    },
    {
     "name": "stdout",
     "output_type": "stream",
     "text": [
      "Finding optimum...\n"
     ]
    },
    {
     "name": "stderr",
     "output_type": "stream",
     "text": [
      "100%|████████████████████████████████████████████████████████████████████████████████| 100/100 [00:07<00:00, 11.04it/s]\n"
     ]
    }
   ],
   "source": [
    "res = model.maximize_args(knn_opt, bounds, 100, show_progressbar=True)"
   ]
  },
  {
   "cell_type": "code",
   "execution_count": 8,
   "metadata": {},
   "outputs": [],
   "source": [
    "y_knn = res['y']\n",
    "x_knn = res['x']"
   ]
  },
  {
   "cell_type": "code",
   "execution_count": 9,
   "metadata": {},
   "outputs": [
    {
     "name": "stdout",
     "output_type": "stream",
     "text": [
      "[5]\n",
      "0.9638888888888889\n"
     ]
    }
   ],
   "source": [
    "x_knn_sol = res['x_sol']\n",
    "y_knn_sol = res['y_sol']\n",
    "print(x_knn_sol)\n",
    "print(y_knn_sol)"
   ]
  },
  {
   "cell_type": "markdown",
   "metadata": {},
   "source": [
    "### 3.1 Training Plot"
   ]
  },
  {
   "cell_type": "code",
   "execution_count": 10,
   "metadata": {},
   "outputs": [
    {
     "data": {
      "image/png": "[encoded data removed]",
      "text/plain": [
       "<Figure size 288x216 with 1 Axes>"
      ]
     },
     "metadata": {
      "needs_background": "light"
     },
     "output_type": "display_data"
    }
   ],
   "source": [
    "plt.figure(figsize=(4,3))\n",
    "plt.plot(np.arange(y_knn.shape[0]), y_knn)\n",
    "#plt.title('Training plot')\n",
    "plt.xlabel('Iteration')\n",
    "plt.ylabel('Validation accuracy')\n",
    "plt.savefig(plot_path+\"trainingloss.pdf\", bbox_inches=\"tight\")\n",
    "plt.show()"
   ]
  },
  {
   "cell_type": "markdown",
   "metadata": {},
   "source": [
    "### 3.2 Hyperparameter Plot of k"
   ]
  },
  {
   "cell_type": "code",
   "execution_count": 11,
   "metadata": {},
   "outputs": [
    {
     "data": {
      "image/png": "[encoded data removed]",
      "text/plain": [
       "<Figure size 288x216 with 1 Axes>"
      ]
     },
     "metadata": {
      "needs_background": "light"
     },
     "output_type": "display_data"
    }
   ],
   "source": [
    "plt.figure(figsize=(4,3))\n",
    "plt.scatter(np.arange(x_knn.shape[0]), x_knn, s=3)\n",
    "#plt.title('Training plot')\n",
    "plt.xlabel('Iteration')\n",
    "plt.ylabel('k')\n",
    "plt.savefig(plot_path+\"training_k.pdf\", bbox_inches=\"tight\")\n",
    "plt.show()"
   ]
  },
  {
   "cell_type": "markdown",
   "metadata": {},
   "source": [
    "### 3.3 Hyperparameter Space Plot"
   ]
  },
  {
   "cell_type": "code",
   "execution_count": 12,
   "metadata": {},
   "outputs": [
    {
     "data": {
      "image/png": "[encoded data removed]",
      "text/plain": [
       "<Figure size 432x288 with 1 Axes>"
      ]
     },
     "metadata": {
      "needs_background": "light"
     },
     "output_type": "display_data"
    }
   ],
   "source": [
    "#plt.figure(figsize=(4,3))\n",
    "plt.scatter(x_knn, y_knn, s=1)\n",
    "plt.xlabel('k')\n",
    "plt.ylabel('Validation accuracy')\n",
    "plt.savefig(plot_path+\"training_k_acc.pdf\", bbox_inches=\"tight\")\n",
    "plt.show()"
   ]
  },
  {
   "cell_type": "markdown",
   "metadata": {},
   "source": [
    "## 4. Results\n",
    "\n",
    "A linear decrease of the accuracy is visible when $n$ is set higher. Regions where points led to poor performances were evaluated less. Good regions, on the other hand, are more dense with points. grAdapt still escapes from local optima. But the chances of obtaining higher values of $n$ is decreased, just not vanished (to ensure a global solution). It works just as expected. When tuning by hand, the user would also avoid higher $n$ and evaluate lower $n$ more often."
   ]
  }
 ],
 "metadata": {
  "kernelspec": {
   "display_name": "Masterthesis",
   "language": "python",
   "name": "myenv"
  },
  "language_info": {
   "codemirror_mode": {
    "name": "ipython",
    "version": 3
   },
   "file_extension": ".py",
   "mimetype": "text/x-python",
   "name": "python",
   "nbconvert_exporter": "python",
   "pygments_lexer": "ipython3",
   "version": "3.8.2"
  }
 },
 "nbformat": 4,
 "nbformat_minor": 4
}
