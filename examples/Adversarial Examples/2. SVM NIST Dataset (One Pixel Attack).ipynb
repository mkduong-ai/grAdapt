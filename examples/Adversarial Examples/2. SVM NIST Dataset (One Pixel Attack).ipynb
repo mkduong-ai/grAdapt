{
 "cells": [
  {
   "cell_type": "code",
   "execution_count": 1,
   "metadata": {},
   "outputs": [],
   "source": [
    "import numpy as np\n",
    "\n",
    "# grAdapt\n",
    "import grAdapt\n",
    "from grAdapt.space.datatype import Float, Integer\n",
    "from grAdapt.models import Sequential\n",
    "\n",
    "# sklearn\n",
    "# Import datasets, classifiers and performance metrics\n",
    "from sklearn.metrics import log_loss\n",
    "from sklearn import datasets, svm, metrics\n",
    "from sklearn.model_selection import train_test_split\n",
    "\n",
    "# The digits dataset\n",
    "digits = datasets.load_digits()\n",
    "\n",
    "# plot\n",
    "import matplotlib.pyplot as plt"
   ]
  },
  {
   "cell_type": "markdown",
   "metadata": {},
   "source": [
    "## 1. Load NIST dataset"
   ]
  },
  {
   "cell_type": "code",
   "execution_count": 2,
   "metadata": {},
   "outputs": [],
   "source": [
    "# The digits dataset\n",
    "digits = datasets.load_digits()\n",
    "\n",
    "# To apply a classifier on this data, we need to flatten the image, to\n",
    "# turn the data in a (samples, feature) matrix:\n",
    "n_samples = len(digits.images)\n",
    "data = digits.images.reshape((n_samples, -1))"
   ]
  },
  {
   "cell_type": "markdown",
   "metadata": {},
   "source": [
    "## 2. Fit SVM"
   ]
  },
  {
   "cell_type": "code",
   "execution_count": 3,
   "metadata": {},
   "outputs": [
    {
     "data": {
      "text/plain": [
       "SVC(C=1.0, break_ties=False, cache_size=200, class_weight=None, coef0=0.0,\n",
       "    decision_function_shape='ovr', degree=3, gamma=0.001, kernel='rbf',\n",
       "    max_iter=-1, probability=True, random_state=None, shrinking=True, tol=0.001,\n",
       "    verbose=False)"
      ]
     },
     "execution_count": 3,
     "metadata": {},
     "output_type": "execute_result"
    }
   ],
   "source": [
    "# Create a classifier: a support vector classifier\n",
    "classifier = svm.SVC(gamma=0.001, probability=True)\n",
    "\n",
    "# Split data into train and test subsets\n",
    "X_train, X_test, y_train, y_test = train_test_split(\n",
    "    data, digits.target, test_size=0.5, shuffle=False)\n",
    "\n",
    "# We learn the digits on the first half of the digits\n",
    "classifier.fit(X_train, y_train)"
   ]
  },
  {
   "cell_type": "code",
   "execution_count": 4,
   "metadata": {},
   "outputs": [
    {
     "data": {
      "text/plain": [
       "0.9688542825361512"
      ]
     },
     "execution_count": 4,
     "metadata": {},
     "output_type": "execute_result"
    }
   ],
   "source": [
    "classifier.score(X_test, y_test)"
   ]
  },
  {
   "cell_type": "markdown",
   "metadata": {},
   "source": [
    "## 3. Display a test image which has been rightfully classified"
   ]
  },
  {
   "cell_type": "code",
   "execution_count": 5,
   "metadata": {},
   "outputs": [
    {
     "data": {
      "text/plain": [
       "<matplotlib.image.AxesImage at 0x1cdace3da90>"
      ]
     },
     "execution_count": 5,
     "metadata": {},
     "output_type": "execute_result"
    },
    {
     "data": {
      "image/png": "[encoded data removed]",
      "text/plain": [
       "<Figure size 432x288 with 1 Axes>"
      ]
     },
     "metadata": {
      "needs_background": "light"
     },
     "output_type": "display_data"
    }
   ],
   "source": [
    "plt.imshow(X_test[500].reshape(8, 8), cmap=plt.cm.binary)"
   ]
  },
  {
   "cell_type": "code",
   "execution_count": 6,
   "metadata": {},
   "outputs": [
    {
     "data": {
      "text/plain": [
       "array([[0.00491978, 0.00537241, 0.00464466, 0.00444073, 0.90303806,\n",
       "        0.01827738, 0.04011029, 0.0049646 , 0.00869445, 0.00553763]])"
      ]
     },
     "execution_count": 6,
     "metadata": {},
     "output_type": "execute_result"
    }
   ],
   "source": [
    "classifier.predict_proba(X_test[500].reshape(1, -1))"
   ]
  },
  {
   "cell_type": "markdown",
   "metadata": {},
   "source": [
    "## 4. Goal"
   ]
  },
  {
   "cell_type": "markdown",
   "metadata": {},
   "source": [
    "We aim to perturbate the image above such that is will be missclassified. A One Pixel Attack is an adversarial example itself with the only difference that only one pixel of the image is perturbated. This reduces the number of dimensions to deal in the optimization problem. We optimize two values: One for the amount of perturbation and one for which pixel we attack. Both values are contrained to be integers. If the domain constraint is not satisfied by the perturbation, 1 is returned. 0 is returned if the perturbated image has been misclassified.\n",
    "\n",
    "Differently than adversarial attacks, the norm of the perturbation does not has to be minimized. One pixel is already a small perturbation."
   ]
  },
  {
   "cell_type": "markdown",
   "metadata": {},
   "source": [
    "### 4.1 Define Black-Box"
   ]
  },
  {
   "cell_type": "code",
   "execution_count": 7,
   "metadata": {},
   "outputs": [],
   "source": [
    "def one_pixel_attack(per):\n",
    "    # perturbation has shape (2)\n",
    "    # X_test[500] has shape (64,)\n",
    "    pixel_position = int(per[0])\n",
    "    amount = int(per[1])\n",
    "    \n",
    "    \n",
    "    perturbation = np.zeros((64,))\n",
    "    perturbation[pixel_position] = amount\n",
    "    perturbated_image = (X_test[500] + perturbation).reshape(1, -1)\n",
    "    \n",
    "    # image not valid because domain contraint not satisfied\n",
    "    #print(perturbated_image[0][pixel_position].shape)\n",
    "    #print(perturbated_image.shape)\n",
    "    if perturbated_image[0][pixel_position] > 16:\n",
    "        return 1\n",
    "    \n",
    "    # let's target the label 5\n",
    "    # this is also the second highest probabilty of the image\n",
    "    target_label = np.zeros((10,))\n",
    "    target_label[6] = 1\n",
    "    \n",
    "    pred_label_perturbated = classifier.predict_proba(perturbated_image)\n",
    "    \n",
    "    # return cross entropy\n",
    "    #print(target_label.shape)\n",
    "    #print(pred_label_perturbated.shape)\n",
    "    loss = log_loss(target_label, pred_label_perturbated.reshape(10,))\n",
    "    #print(loss)\n",
    "    return loss"
   ]
  },
  {
   "cell_type": "markdown",
   "metadata": {},
   "source": [
    "### 4.2 grAdapt"
   ]
  },
  {
   "cell_type": "markdown",
   "metadata": {},
   "source": [
    "Using NoGradient accelerates the training process when dealing with high dimensional optimization problems (64 dimension). Only escape functions are used to obtain the next point. The best point is used as the mean and surrounding points are then evaluated."
   ]
  },
  {
   "cell_type": "code",
   "execution_count": 8,
   "metadata": {},
   "outputs": [],
   "source": [
    "pos_bound = Integer(0, 63)\n",
    "amount_bound = Integer(0, 16)\n",
    "\n",
    "bounds = [pos_bound, amount_bound]"
   ]
  },
  {
   "cell_type": "code",
   "execution_count": 9,
   "metadata": {
    "scrolled": true
   },
   "outputs": [
    {
     "name": "stderr",
     "output_type": "stream",
     "text": [
      " 23%|███████████████████▊                                                                   | 228/1000 [00:00<?, ?it/s]"
     ]
    },
    {
     "name": "stdout",
     "output_type": "stream",
     "text": [
      "Sampling 228 random points.\n",
      "Random function evaluations. This might take a while.\n",
      "Finding optimum...\n"
     ]
    },
    {
     "name": "stderr",
     "output_type": "stream",
     "text": [
      "100%|██████████████████████████████████████████████████████████████████████████████| 1000/1000 [00:22<00:00, 44.70it/s]\n"
     ]
    }
   ],
   "source": [
    "#sur = grAdapt.surrogate.NoGradient()\n",
    "model = Sequential(random_state=1)#, surrogate=sur)\n",
    "res = model.minimize(one_pixel_attack, bounds, 1000)"
   ]
  },
  {
   "cell_type": "markdown",
   "metadata": {},
   "source": [
    "#### 4.2.1 Plot Loss"
   ]
  },
  {
   "cell_type": "code",
   "execution_count": 10,
   "metadata": {},
   "outputs": [
    {
     "data": {
      "image/png": "[encoded data removed]",
      "text/plain": [
       "<Figure size 432x288 with 1 Axes>"
      ]
     },
     "metadata": {
      "needs_background": "light"
     },
     "output_type": "display_data"
    }
   ],
   "source": [
    "plt.title('Loss')\n",
    "plt.plot(res['y'], label='grAdapt: Training loss')\n",
    "plt.legend(loc='upper right')\n",
    "#plt.yscale('log')\n",
    "plt.show()"
   ]
  },
  {
   "cell_type": "code",
   "execution_count": 11,
   "metadata": {},
   "outputs": [
    {
     "data": {
      "text/plain": [
       "0.324809148872867"
      ]
     },
     "execution_count": 11,
     "metadata": {},
     "output_type": "execute_result"
    }
   ],
   "source": [
    "res['y_sol']"
   ]
  },
  {
   "cell_type": "markdown",
   "metadata": {},
   "source": [
    "#### 4.2.2 Plot x values"
   ]
  },
  {
   "cell_type": "code",
   "execution_count": 12,
   "metadata": {},
   "outputs": [
    {
     "data": {
      "text/plain": [
       "<matplotlib.collections.PathCollection at 0x1cdacd9e190>"
      ]
     },
     "execution_count": 12,
     "metadata": {},
     "output_type": "execute_result"
    },
    {
     "data": {
      "image/png": "[encoded data removed]",
      "text/plain": [
       "<Figure size 432x288 with 1 Axes>"
      ]
     },
     "metadata": {
      "needs_background": "light"
     },
     "output_type": "display_data"
    }
   ],
   "source": [
    "plt.scatter(res['x'][:,0], res['x'][:,1], s=2)"
   ]
  },
  {
   "cell_type": "markdown",
   "metadata": {},
   "source": [
    "#### 4.2.3 Plot original and perturbated image"
   ]
  },
  {
   "cell_type": "code",
   "execution_count": 13,
   "metadata": {},
   "outputs": [],
   "source": [
    "pixel_position, amount = res['x_sol']\n",
    "pixel_position = int(pixel_position)\n",
    "amount = int(amount)\n",
    "\n",
    "perturbation = np.zeros((64,))\n",
    "perturbation[pixel_position] = amount\n",
    "perturbated_image = (X_test[500] + perturbation).reshape(1, -1)"
   ]
  },
  {
   "cell_type": "code",
   "execution_count": 14,
   "metadata": {},
   "outputs": [
    {
     "data": {
      "image/png": "[encoded data removed]",
      "text/plain": [
       "<Figure size 576x576 with 2 Axes>"
      ]
     },
     "metadata": {
      "needs_background": "light"
     },
     "output_type": "display_data"
    }
   ],
   "source": [
    "fig=plt.figure(figsize=(8, 8))\n",
    "columns = 2\n",
    "rows = 1\n",
    "img = [X_test[500], perturbated_image]\n",
    "labels = ['Original', 'Perturbated', ]\n",
    "for i in range(1, columns*rows +1):\n",
    "    fig.add_subplot(rows, columns, i, title=labels[i-1])\n",
    "    plt.imshow(img[i-1].reshape(8, 8), cmap=plt.cm.binary)\n",
    "plt.show()"
   ]
  },
  {
   "cell_type": "code",
   "execution_count": 15,
   "metadata": {},
   "outputs": [
    {
     "data": {
      "text/plain": [
       "array([[0.01029155, 0.01470712, 0.01245868, 0.01115855, 0.72381509,\n",
       "        0.0372631 , 0.13950594, 0.01218204, 0.0231806 , 0.01543732]])"
      ]
     },
     "execution_count": 15,
     "metadata": {},
     "output_type": "execute_result"
    }
   ],
   "source": [
    "classifier.predict_proba(perturbated_image.reshape(1, -1))"
   ]
  },
  {
   "cell_type": "code",
   "execution_count": 16,
   "metadata": {},
   "outputs": [],
   "source": [
    "target_label = np.zeros((10,))\n",
    "target_label[6] = 1"
   ]
  },
  {
   "cell_type": "code",
   "execution_count": 17,
   "metadata": {},
   "outputs": [
    {
     "data": {
      "text/plain": [
       "array([0.01029155, 0.01470712, 0.01245868, 0.01115855, 0.72381509,\n",
       "       0.0372631 , 0.13950594, 0.01218204, 0.0231806 , 0.01543732])"
      ]
     },
     "execution_count": 17,
     "metadata": {},
     "output_type": "execute_result"
    }
   ],
   "source": [
    "classifier.predict_proba(perturbated_image).reshape(10,)"
   ]
  },
  {
   "cell_type": "code",
   "execution_count": 18,
   "metadata": {},
   "outputs": [
    {
     "data": {
      "text/plain": [
       "0.3394495382638425"
      ]
     },
     "execution_count": 18,
     "metadata": {},
     "output_type": "execute_result"
    }
   ],
   "source": [
    "log_loss(target_label, classifier.predict_proba(perturbated_image).reshape(10,))"
   ]
  },
  {
   "cell_type": "markdown",
   "metadata": {},
   "source": [
    "### 4.3 BFGS with scipy"
   ]
  },
  {
   "cell_type": "code",
   "execution_count": 19,
   "metadata": {},
   "outputs": [],
   "source": [
    "import scipy"
   ]
  },
  {
   "cell_type": "code",
   "execution_count": 20,
   "metadata": {},
   "outputs": [],
   "source": [
    "x0 = grAdapt.utils.sampling.sample_points_bounds(bounds, 1, random_state=1)\n",
    "res_scipy = scipy.optimize.minimize(one_pixel_attack, x0, bounds=bounds)"
   ]
  },
  {
   "cell_type": "code",
   "execution_count": 21,
   "metadata": {
    "scrolled": true
   },
   "outputs": [
    {
     "data": {
      "text/plain": [
       "      fun: 1\n",
       " hess_inv: <2x2 LbfgsInvHessProduct with dtype=float64>\n",
       "      jac: array([0., 0.])\n",
       "  message: b'CONVERGENCE: NORM_OF_PROJECTED_GRADIENT_<=_PGTOL'\n",
       "     nfev: 3\n",
       "      nit: 0\n",
       "   status: 0\n",
       "  success: True\n",
       "        x: array([26.2723863, 11.5251919])"
      ]
     },
     "execution_count": 21,
     "metadata": {},
     "output_type": "execute_result"
    }
   ],
   "source": [
    "res_scipy"
   ]
  },
  {
   "cell_type": "markdown",
   "metadata": {},
   "source": [
    "#### 4.3.1 Plot original and perturbated image"
   ]
  },
  {
   "cell_type": "code",
   "execution_count": 22,
   "metadata": {},
   "outputs": [],
   "source": [
    "pixel_position, amount = np.round(res_scipy.x)\n",
    "pixel_position = int(pixel_position)\n",
    "amount = int(amount)\n",
    "\n",
    "perturbation = np.zeros((64,))\n",
    "perturbation[pixel_position] = amount\n",
    "perturbated_image_scipy = (X_test[500] + perturbation).reshape(1, -1)"
   ]
  },
  {
   "cell_type": "code",
   "execution_count": 23,
   "metadata": {},
   "outputs": [
    {
     "data": {
      "image/png": "[encoded data removed]",
      "text/plain": [
       "<Figure size 576x576 with 2 Axes>"
      ]
     },
     "metadata": {
      "needs_background": "light"
     },
     "output_type": "display_data"
    }
   ],
   "source": [
    "fig=plt.figure(figsize=(8, 8))\n",
    "columns = 2\n",
    "rows = 1\n",
    "img = [X_test[500], perturbated_image_scipy]\n",
    "labels = ['Original', 'Perturbated', ]\n",
    "for i in range(1, columns*rows +1):\n",
    "    fig.add_subplot(rows, columns, i, title=labels[i-1])\n",
    "    plt.imshow(img[i-1].reshape(8, 8), cmap=plt.cm.binary)\n",
    "plt.show()"
   ]
  },
  {
   "cell_type": "code",
   "execution_count": 24,
   "metadata": {},
   "outputs": [
    {
     "data": {
      "text/plain": [
       "array([4])"
      ]
     },
     "execution_count": 24,
     "metadata": {},
     "output_type": "execute_result"
    }
   ],
   "source": [
    "classifier.predict(perturbated_image_scipy.reshape(1, -1))"
   ]
  },
  {
   "cell_type": "markdown",
   "metadata": {},
   "source": [
    "## 5. Conclusion"
   ]
  },
  {
   "cell_type": "markdown",
   "metadata": {},
   "source": [
    "Both grAdapt and BFGS struggle to perturbate the image by one pixel to yield for misclassification."
   ]
  },
  {
   "cell_type": "code",
   "execution_count": null,
   "metadata": {},
   "outputs": [],
   "source": []
  }
 ],
 "metadata": {
  "kernelspec": {
   "display_name": "Masterthesis",
   "language": "python",
   "name": "myenv"
  },
  "language_info": {
   "codemirror_mode": {
    "name": "ipython",
    "version": 3
   },
   "file_extension": ".py",
   "mimetype": "text/x-python",
   "name": "python",
   "nbconvert_exporter": "python",
   "pygments_lexer": "ipython3",
   "version": "3.8.2"
  }
 },
 "nbformat": 4,
 "nbformat_minor": 4
}
