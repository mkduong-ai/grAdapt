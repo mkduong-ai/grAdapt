{
 "cells": [
  {
   "cell_type": "code",
   "execution_count": 1,
   "metadata": {},
   "outputs": [],
   "source": [
    "import numpy as np\n",
    "np.random.seed(1)\n",
    "\n",
    "# grAdapt\n",
    "import grAdapt\n",
    "from grAdapt.space.datatype import Float, Integer\n",
    "from grAdapt.optimizer import AMSGrad, Adam, AMSGradBisection\n",
    "from grAdapt.surrogate import GPRSlidingWindow, NoModel, NoGradient\n",
    "from grAdapt.models import Sequential\n",
    "\n",
    "# sklearn\n",
    "# Import datasets, classifiers and performance metrics\n",
    "from sklearn.metrics import log_loss\n",
    "from sklearn import datasets, svm, metrics\n",
    "from sklearn.model_selection import train_test_split\n",
    "\n",
    "# The digits dataset\n",
    "digits = datasets.load_digits()\n",
    "\n",
    "# plot\n",
    "import matplotlib.pyplot as plt"
   ]
  },
  {
   "cell_type": "markdown",
   "metadata": {},
   "source": [
    "## 1. Load NIST Dataset"
   ]
  },
  {
   "cell_type": "code",
   "execution_count": 2,
   "metadata": {},
   "outputs": [],
   "source": [
    "import os\n",
    "plot_path = 'plots/'\n",
    "if not os.path.exists(plot_path):\n",
    "    os.makedirs(plot_path)"
   ]
  },
  {
   "cell_type": "code",
   "execution_count": 3,
   "metadata": {},
   "outputs": [],
   "source": [
    "# The digits dataset\n",
    "digits = datasets.load_digits()\n",
    "\n",
    "# To apply a classifier on this data, we need to flatten the image, to\n",
    "# turn the data in a (samples, feature) matrix:\n",
    "n_samples = len(digits.images)\n",
    "data = digits.images.reshape((n_samples, -1))"
   ]
  },
  {
   "cell_type": "markdown",
   "metadata": {},
   "source": [
    "## 2. Fit SVM"
   ]
  },
  {
   "cell_type": "code",
   "execution_count": 4,
   "metadata": {},
   "outputs": [
    {
     "data": {
      "text/plain": [
       "SVC(C=1.0, break_ties=False, cache_size=200, class_weight=None, coef0=0.0,\n",
       "    decision_function_shape='ovr', degree=3, gamma=0.001, kernel='rbf',\n",
       "    max_iter=-1, probability=True, random_state=None, shrinking=True, tol=0.001,\n",
       "    verbose=False)"
      ]
     },
     "execution_count": 4,
     "metadata": {},
     "output_type": "execute_result"
    }
   ],
   "source": [
    "# Create a classifier: a support vector classifier\n",
    "classifier = svm.SVC(gamma=0.001, probability=True)\n",
    "\n",
    "# Split data into train and test subsets\n",
    "X_train, X_test, y_train, y_test = train_test_split(\n",
    "    data, digits.target, test_size=0.5, shuffle=False)\n",
    "\n",
    "# We learn the digits on the first half of the digits\n",
    "classifier.fit(X_train, y_train)"
   ]
  },
  {
   "cell_type": "code",
   "execution_count": 5,
   "metadata": {},
   "outputs": [
    {
     "data": {
      "text/plain": [
       "0.9688542825361512"
      ]
     },
     "execution_count": 5,
     "metadata": {},
     "output_type": "execute_result"
    }
   ],
   "source": [
    "classifier.score(X_test, y_test)"
   ]
  },
  {
   "cell_type": "markdown",
   "metadata": {},
   "source": [
    "## 3. Display a test image which has been rightfully classified"
   ]
  },
  {
   "cell_type": "markdown",
   "metadata": {},
   "source": [
    "### 3.1 Setting target image"
   ]
  },
  {
   "cell_type": "code",
   "execution_count": 6,
   "metadata": {},
   "outputs": [],
   "source": [
    "target_idx = 1"
   ]
  },
  {
   "cell_type": "code",
   "execution_count": 7,
   "metadata": {},
   "outputs": [
    {
     "data": {
      "text/plain": [
       "<matplotlib.image.AxesImage at 0x24d67288280>"
      ]
     },
     "execution_count": 7,
     "metadata": {},
     "output_type": "execute_result"
    },
    {
     "data": {
      "image/png": "[encoded data removed]",
      "text/plain": [
       "<Figure size 432x288 with 1 Axes>"
      ]
     },
     "metadata": {
      "needs_background": "light"
     },
     "output_type": "display_data"
    }
   ],
   "source": [
    "plt.imshow(X_test[target_idx].reshape(8, 8), cmap=plt.cm.binary)"
   ]
  },
  {
   "cell_type": "code",
   "execution_count": 8,
   "metadata": {},
   "outputs": [
    {
     "data": {
      "text/plain": [
       "8"
      ]
     },
     "execution_count": 8,
     "metadata": {},
     "output_type": "execute_result"
    }
   ],
   "source": [
    "y_test[target_idx]"
   ]
  },
  {
   "cell_type": "code",
   "execution_count": 9,
   "metadata": {},
   "outputs": [
    {
     "data": {
      "text/plain": [
       "array([ True])"
      ]
     },
     "execution_count": 9,
     "metadata": {},
     "output_type": "execute_result"
    }
   ],
   "source": [
    "classifier.predict(X_test[target_idx].reshape(1, -1)) == y_test[target_idx]"
   ]
  },
  {
   "cell_type": "markdown",
   "metadata": {},
   "source": [
    "### 3.2 Setting target label"
   ]
  },
  {
   "cell_type": "code",
   "execution_count": 10,
   "metadata": {},
   "outputs": [
    {
     "data": {
      "text/plain": [
       "8"
      ]
     },
     "execution_count": 10,
     "metadata": {},
     "output_type": "execute_result"
    }
   ],
   "source": [
    "np.argmax(classifier.predict_log_proba(X_test[target_idx].reshape(1, -1)))"
   ]
  },
  {
   "cell_type": "code",
   "execution_count": 11,
   "metadata": {},
   "outputs": [],
   "source": [
    "target_label = np.argsort(np.max(classifier.predict_proba(X_test[target_idx].reshape(1, -1)), axis=0))[-2]"
   ]
  },
  {
   "cell_type": "code",
   "execution_count": 12,
   "metadata": {},
   "outputs": [
    {
     "data": {
      "text/plain": [
       "6"
      ]
     },
     "execution_count": 12,
     "metadata": {},
     "output_type": "execute_result"
    }
   ],
   "source": [
    "target_label"
   ]
  },
  {
   "cell_type": "markdown",
   "metadata": {},
   "source": [
    "## 4. Goal"
   ]
  },
  {
   "cell_type": "markdown",
   "metadata": {},
   "source": [
    "We aim to perturbate the image above such that is will be missclassified. We have two objectives: Target the image to another label and secondly minimize the norm of the pertubation. We have to set bounds to our objective such that the created image is a valid image."
   ]
  },
  {
   "cell_type": "markdown",
   "metadata": {},
   "source": [
    "The image dataset has been normalized to 0-16. We now have to constrain the domain."
   ]
  },
  {
   "cell_type": "markdown",
   "metadata": {},
   "source": [
    "### 4.1 Define Black-Box"
   ]
  },
  {
   "cell_type": "code",
   "execution_count": 13,
   "metadata": {},
   "outputs": [],
   "source": [
    "def categorical_distance(x1, x2):\n",
    "    if x1 == x2:\n",
    "        return 0\n",
    "    else:\n",
    "        return 1"
   ]
  },
  {
   "cell_type": "code",
   "execution_count": 14,
   "metadata": {},
   "outputs": [],
   "source": [
    "def adversarial_examples(perturbation):\n",
    "    \n",
    "    perturbated_image = (X_test[target_idx] + perturbation).reshape(1, -1)\n",
    "    \n",
    "    pred_label_perturbated = classifier.predict(perturbated_image)\n",
    "    pred_label = classifier.predict(X_test[target_idx].reshape(1, -1))\n",
    "    \n",
    "    # distance for categorical attributes\n",
    "    categorical_loss = 1 - categorical_distance(pred_label_perturbated, pred_label)\n",
    "    # minimal perturbation\n",
    "    perturbation_loss = np.linalg.norm(perturbation)/len(perturbation)\n",
    "    \n",
    "    return categorical_loss + perturbation_loss"
   ]
  },
  {
   "cell_type": "markdown",
   "metadata": {},
   "source": [
    "def adversarial_examples(perturbation):\n",
    "    \n",
    "    # @ Intriguing properties of neural networks\n",
    "    # authors: Szegedy et al.\n",
    "    \n",
    "    perturbated_image = (X_test[target_idx] + perturbation).reshape(1, -1)\n",
    "    \n",
    "    #print(perturbated_image)\n",
    "    loss = classifier.predict_proba(perturbated_image).T\n",
    "\n",
    "    loss_target = -loss[target_label][0]\n",
    "    \n",
    "    perturbation_loss = np.linalg.norm(perturbation)/len(perturbation)\n",
    "    \n",
    "    # print(loss_target + perturbation_loss)\n",
    "    \n",
    "    return loss_target + perturbation_loss"
   ]
  },
  {
   "cell_type": "code",
   "execution_count": 15,
   "metadata": {},
   "outputs": [],
   "source": [
    "upper_bounds = (16*np.ones(X_test[target_idx].shape[0]) - X_test[target_idx])#//(1.5)\n",
    "bounds = [Float(0, x) for x in upper_bounds]"
   ]
  },
  {
   "cell_type": "markdown",
   "metadata": {},
   "source": [
    "### 4.2 grAdapt"
   ]
  },
  {
   "cell_type": "markdown",
   "metadata": {},
   "source": [
    "Using NoGradient accelerates the training process when dealing with high dimensional optimization problems (64 dimension). Only the escape functions are used to obtain the next point. The best point is used as the mean and surrounding points are then evaluated."
   ]
  },
  {
   "cell_type": "code",
   "execution_count": 16,
   "metadata": {
    "scrolled": true
   },
   "outputs": [
    {
     "name": "stderr",
     "output_type": "stream",
     "text": [
      "\r",
      "  0%|                                                                                         | 0/1000 [00:00<?, ?it/s]"
     ]
    },
    {
     "name": "stdout",
     "output_type": "stream",
     "text": [
      "Sampling 488 random points.\n",
      "Random function evaluations. This might take a while.\n"
     ]
    },
    {
     "name": "stderr",
     "output_type": "stream",
     "text": [
      " 50%|███████████████████████████████████████▎                                       | 498/1000 [00:00<00:10, 49.49it/s]"
     ]
    },
    {
     "name": "stdout",
     "output_type": "stream",
     "text": [
      "Finding optimum...\n"
     ]
    },
    {
     "name": "stderr",
     "output_type": "stream",
     "text": [
      "100%|██████████████████████████████████████████████████████████████████████████████| 1000/1000 [00:09<00:00, 53.22it/s]\n"
     ]
    }
   ],
   "source": [
    "surrogate = NoGradient()\n",
    "model = Sequential(surrogate=surrogate)\n",
    "res = model.minimize(adversarial_examples, bounds, 1000)"
   ]
  },
  {
   "cell_type": "markdown",
   "metadata": {},
   "source": [
    "#### 4.2.1 Plot Loss"
   ]
  },
  {
   "cell_type": "code",
   "execution_count": 17,
   "metadata": {},
   "outputs": [
    {
     "data": {
      "image/png": "[encoded data removed]",
      "text/plain": [
       "<Figure size 432x288 with 1 Axes>"
      ]
     },
     "metadata": {
      "needs_background": "light"
     },
     "output_type": "display_data"
    }
   ],
   "source": [
    "plt.title('Loss')\n",
    "plt.plot(res['y'], label='grAdapt: Training loss')\n",
    "plt.legend(loc='upper right')\n",
    "#plt.yscale('log')\n",
    "plt.show()"
   ]
  },
  {
   "cell_type": "code",
   "execution_count": 18,
   "metadata": {},
   "outputs": [
    {
     "data": {
      "image/png": "[encoded data removed]",
      "text/plain": [
       "<Figure size 432x288 with 1 Axes>"
      ]
     },
     "metadata": {
      "needs_background": "light"
     },
     "output_type": "display_data"
    }
   ],
   "source": [
    "plt.title('Loss')\n",
    "plt.scatter(np.arange(len(res['y'])), res['y'], label='grAdapt: Training loss', s=1)\n",
    "plt.legend(loc='upper right')\n",
    "#plt.yscale('log')\n",
    "plt.show()"
   ]
  },
  {
   "cell_type": "markdown",
   "metadata": {},
   "source": [
    "#### 4.2.2 Plot original and perturbated image"
   ]
  },
  {
   "cell_type": "code",
   "execution_count": 19,
   "metadata": {},
   "outputs": [],
   "source": [
    "perturbated_image = np.array(res['x_sol'] + X_test[target_idx], dtype=np.float)"
   ]
  },
  {
   "cell_type": "code",
   "execution_count": 20,
   "metadata": {},
   "outputs": [
    {
     "data": {
      "text/plain": [
       "array([10.10295317, 11.06627373,  9.50828183, 15.79936204, 16.        ,\n",
       "        8.06983377, 13.34087368,  0.75599536, 13.8831645 ,  5.84894769,\n",
       "       16.        , 16.        , 16.        , 13.40904937,  9.34010695,\n",
       "        7.65299042,  0.78716236,  4.36732084, 15.41282851, 16.        ,\n",
       "       15.61118407,  7.56033923,  3.96215791,  0.28894917,  7.07960706,\n",
       "        1.82761043, 13.41907142, 16.        , 15.16640827, 15.91079037,\n",
       "        0.53334226,  1.1492587 ,  3.39058725,  4.8019171 , 14.85576387,\n",
       "       12.38698467,  7.00625095, 16.        , 10.82856914,  6.58083215,\n",
       "        0.50696359,  9.42939951, 16.        ,  3.57587223, 12.54030908,\n",
       "       16.        ,  9.43056512,  0.79244196,  7.19171498,  3.81386942,\n",
       "       13.19315218, 14.42361413, 12.45208666, 15.10713616,  9.36784442,\n",
       "        0.29716886,  1.41718457,  0.60762766, 14.57820358, 15.55820307,\n",
       "       16.        ,  7.70034357,  0.46417529,  2.5108875 ])"
      ]
     },
     "execution_count": 20,
     "metadata": {},
     "output_type": "execute_result"
    }
   ],
   "source": [
    "perturbated_image"
   ]
  },
  {
   "cell_type": "code",
   "execution_count": 21,
   "metadata": {},
   "outputs": [
    {
     "data": {
      "image/png": "[encoded data removed]",
      "text/plain": [
       "<Figure size 576x576 with 2 Axes>"
      ]
     },
     "metadata": {
      "needs_background": "light"
     },
     "output_type": "display_data"
    }
   ],
   "source": [
    "fig=plt.figure(figsize=(8, 8))\n",
    "columns = 2\n",
    "rows = 1\n",
    "img = [X_test[target_idx], perturbated_image]\n",
    "labels = ['Original label: '+str(), 'Perturbated label: '+str()]\n",
    "for i in range(1, columns*rows +1):\n",
    "    fig.add_subplot(rows, columns, i, title=labels[i-1]+str())\n",
    "    plt.imshow(img[i-1].reshape(8, 8), cmap=plt.cm.binary)\n",
    "plt.show()"
   ]
  },
  {
   "cell_type": "code",
   "execution_count": 22,
   "metadata": {},
   "outputs": [
    {
     "data": {
      "text/plain": [
       "array([5])"
      ]
     },
     "execution_count": 22,
     "metadata": {},
     "output_type": "execute_result"
    }
   ],
   "source": [
    "classifier.predict(perturbated_image.reshape(1, -1))"
   ]
  },
  {
   "cell_type": "code",
   "execution_count": 23,
   "metadata": {},
   "outputs": [
    {
     "data": {
      "text/plain": [
       "array([ True])"
      ]
     },
     "execution_count": 23,
     "metadata": {},
     "output_type": "execute_result"
    }
   ],
   "source": [
    "classifier.predict(perturbated_image.reshape(1, -1)) != classifier.predict(X_test[target_idx].reshape(1, -1))"
   ]
  },
  {
   "cell_type": "markdown",
   "metadata": {},
   "source": [
    "The perturbated has indeed been wrongly classified."
   ]
  },
  {
   "cell_type": "markdown",
   "metadata": {},
   "source": [
    "### 4.3 BFGS with scipy"
   ]
  },
  {
   "cell_type": "code",
   "execution_count": 24,
   "metadata": {},
   "outputs": [],
   "source": [
    "import scipy"
   ]
  },
  {
   "cell_type": "code",
   "execution_count": 25,
   "metadata": {},
   "outputs": [],
   "source": [
    "x0 = grAdapt.utils.sampling.sample_points_bounds(bounds, 1, random_state=1)\n",
    "res_scipy = scipy.optimize.minimize(adversarial_examples, x0, bounds=bounds)"
   ]
  },
  {
   "cell_type": "code",
   "execution_count": 26,
   "metadata": {
    "scrolled": true
   },
   "outputs": [
    {
     "data": {
      "text/plain": [
       "      fun: 1.6089816968877546\n",
       " hess_inv: <64x64 LbfgsInvHessProduct with dtype=float64>\n",
       "      jac: array([1.92398319e-03, 3.32331940e-03, 3.21964677e-07, 1.74349424e-04,\n",
       "       0.00000000e+00, 2.92876834e-04, 8.59334826e-04, 1.59429137e-03,\n",
       "       1.83053572e-03, 2.17516005e-03, 0.00000000e+00, 0.00000000e+00,\n",
       "       0.00000000e+00, 2.27886598e-03, 1.26354482e-04, 3.09329229e-03,\n",
       "       1.92529326e-03, 2.25539587e-03, 4.04787315e-05, 0.00000000e+00,\n",
       "       2.30893082e-04, 3.90880661e-03, 1.44602108e-03, 3.19413385e-03,\n",
       "       4.04334344e-03, 4.12739842e-03, 2.45226062e-04, 0.00000000e+00,\n",
       "       4.89608354e-05, 2.27893260e-03, 4.53725946e-04, 1.94283478e-03,\n",
       "       4.41936487e-03, 2.45983234e-03, 3.99003053e-04, 5.45874457e-04,\n",
       "       1.97953876e-03, 0.00000000e+00, 6.85562718e-05, 3.46089823e-03,\n",
       "       4.56225058e-03, 3.23603366e-03, 0.00000000e+00, 2.95867775e-03,\n",
       "       4.76241269e-04, 0.00000000e+00, 2.35795827e-03, 1.35462752e-03,\n",
       "       1.32768241e-03, 5.99897909e-04, 3.35065309e-05, 9.78717107e-04,\n",
       "       3.05111492e-04, 7.65609798e-05, 1.84270377e-03, 2.46191956e-04,\n",
       "       2.64877009e-03, 6.76947387e-04, 2.20905516e-03, 4.03554967e-04,\n",
       "       0.00000000e+00, 1.19393384e-03, 3.20371507e-03, 1.91087146e-03])\n",
       "  message: b'ABNORMAL_TERMINATION_IN_LNSRCH'\n",
       "     nfev: 7345\n",
       "      nit: 5\n",
       "   status: 2\n",
       "  success: False\n",
       "        x: array([4.79921472e+00, 8.28971106e+00, 8.22646980e-04, 4.34916762e-01,\n",
       "       0.00000000e+00, 7.30578978e-01, 2.14353858e+00, 3.97681680e+00,\n",
       "       4.56611949e+00, 5.42575699e+00, 0.00000000e+00, 0.00000000e+00,\n",
       "       0.00000000e+00, 5.68442235e+00, 3.15184668e-01, 7.71594186e+00,\n",
       "       4.80246926e+00, 5.62587435e+00, 1.00975950e-01, 0.00000000e+00,\n",
       "       5.75950605e-01, 9.75016488e+00, 3.60697975e+00, 7.96745700e+00,\n",
       "       1.00857501e+01, 1.02954027e+01, 6.11696486e-01, 0.00000000e+00,\n",
       "       1.22153719e-01, 5.68458462e+00, 1.13180496e+00, 4.84623325e+00,\n",
       "       1.10236810e+01, 6.13582657e+00, 9.95291233e-01, 1.36164333e+00,\n",
       "       4.93778702e+00, 0.00000000e+00, 1.71004425e-01, 8.63288648e+00,\n",
       "       1.13801110e+01, 8.07198329e+00, 0.00000000e+00, 7.38015200e+00,\n",
       "       1.18795593e+00, 0.00000000e+00, 5.88171963e+00, 3.37900000e+00,\n",
       "       3.31180520e+00, 1.49640792e+00, 8.35802875e-02, 2.44132610e+00,\n",
       "       7.61087492e-01, 1.90999424e-01, 4.59645213e+00, 6.14112242e-01,\n",
       "       6.60711815e+00, 1.68859657e+00, 5.51029818e+00, 1.00662873e+00,\n",
       "       0.00000000e+00, 2.97817556e+00, 7.99136599e+00, 4.76649965e+00])"
      ]
     },
     "execution_count": 26,
     "metadata": {},
     "output_type": "execute_result"
    }
   ],
   "source": [
    "res_scipy"
   ]
  },
  {
   "cell_type": "markdown",
   "metadata": {},
   "source": [
    "#### 4.3.1 Plot original and perturbated image"
   ]
  },
  {
   "cell_type": "code",
   "execution_count": 27,
   "metadata": {},
   "outputs": [],
   "source": [
    "perturbated_image_scipy = np.round(res_scipy.x + X_test[target_idx])"
   ]
  },
  {
   "cell_type": "code",
   "execution_count": 28,
   "metadata": {
    "scrolled": true
   },
   "outputs": [
    {
     "data": {
      "image/png": "[encoded data removed]",
      "text/plain": [
       "<Figure size 576x576 with 2 Axes>"
      ]
     },
     "metadata": {
      "needs_background": "light"
     },
     "output_type": "display_data"
    }
   ],
   "source": [
    "fig=plt.figure(figsize=(8, 8))\n",
    "columns = 2\n",
    "rows = 1\n",
    "img = [X_test[target_idx], perturbated_image_scipy]\n",
    "labels = ['Original', 'Perturbated', ]\n",
    "for i in range(1, columns*rows +1):\n",
    "    fig.add_subplot(rows, columns, i, title=labels[i-1])\n",
    "    plt.imshow(img[i-1].reshape(8, 8), cmap=plt.cm.binary)\n",
    "plt.show()"
   ]
  },
  {
   "cell_type": "code",
   "execution_count": 29,
   "metadata": {},
   "outputs": [
    {
     "data": {
      "text/plain": [
       "array([8])"
      ]
     },
     "execution_count": 29,
     "metadata": {},
     "output_type": "execute_result"
    }
   ],
   "source": [
    "classifier.predict(perturbated_image_scipy.reshape(1, -1))"
   ]
  },
  {
   "cell_type": "code",
   "execution_count": 30,
   "metadata": {},
   "outputs": [
    {
     "data": {
      "text/plain": [
       "1.6089816968877546"
      ]
     },
     "execution_count": 30,
     "metadata": {},
     "output_type": "execute_result"
    }
   ],
   "source": [
    "res_scipy.fun"
   ]
  },
  {
   "cell_type": "markdown",
   "metadata": {},
   "source": [
    "## 5. Conclusion"
   ]
  },
  {
   "cell_type": "markdown",
   "metadata": {},
   "source": [
    "In this optimization formulation, BFGS struggles to find an adversarial example whereas grAdapt is able to perturbate the target image to be misclassified."
   ]
  }
 ],
 "metadata": {
  "kernelspec": {
   "display_name": "Masterthesis",
   "language": "python",
   "name": "myenv"
  },
  "language_info": {
   "codemirror_mode": {
    "name": "ipython",
    "version": 3
   },
   "file_extension": ".py",
   "mimetype": "text/x-python",
   "name": "python",
   "nbconvert_exporter": "python",
   "pygments_lexer": "ipython3",
   "version": "3.8.2"
  }
 },
 "nbformat": 4,
 "nbformat_minor": 4
}
