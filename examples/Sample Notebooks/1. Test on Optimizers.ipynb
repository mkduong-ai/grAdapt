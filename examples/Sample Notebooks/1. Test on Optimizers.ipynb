{
 "cells": [
  {
   "cell_type": "code",
   "execution_count": 1,
   "metadata": {},
   "outputs": [],
   "source": [
    "import numpy as np\n",
    "import matplotlib.pyplot as plt\n",
    "\n",
    "import grAdapt\n",
    "from grAdapt.surrogate import NoModel, NoGradient\n",
    "from grAdapt.optimizer import GradientDescentBisection, GradientDescent, Adam, AdamBisection, AMSGrad, AMSGradBisection\n",
    "from grAdapt.models import Sequential\n",
    "\n",
    "# data types\n",
    "from grAdapt.space.datatype import Float"
   ]
  },
  {
   "cell_type": "code",
   "execution_count": 2,
   "metadata": {},
   "outputs": [],
   "source": [
    "def sphere(x):\n",
    "    return np.sum(x**2)"
   ]
  },
  {
   "cell_type": "code",
   "execution_count": 3,
   "metadata": {},
   "outputs": [],
   "source": [
    "bounds = [Float(-5, 5) for i in range(16)] # search space"
   ]
  },
  {
   "cell_type": "markdown",
   "metadata": {},
   "source": [
    "## 1. Defining grAdapt Model\n",
    "\n",
    "The gradients are estimated on the objective itself and exceed the number of function evaluations."
   ]
  },
  {
   "cell_type": "markdown",
   "metadata": {},
   "source": [
    "### 1.1 Gradient Descent"
   ]
  },
  {
   "cell_type": "code",
   "execution_count": 4,
   "metadata": {},
   "outputs": [
    {
     "name": "stderr",
     "output_type": "stream",
     "text": [
      " 41%|█████████████████████████████████▏                                               | 41/100 [00:00<00:06,  9.72it/s]"
     ]
    },
    {
     "name": "stdout",
     "output_type": "stream",
     "text": [
      "Sampling 38 random points.\n",
      "Random function evaluations. This might take a while.\n",
      "Finding optimum...\n"
     ]
    },
    {
     "name": "stderr",
     "output_type": "stream",
     "text": [
      "100%|████████████████████████████████████████████████████████████████████████████████| 100/100 [00:07<00:00,  8.21it/s]\n"
     ]
    }
   ],
   "source": [
    "# Define surrogate\n",
    "surrogate = NoModel()\n",
    "\n",
    "# Define optimizer. Because the optimizer works on the surrogate, the surrogate must be passed.\n",
    "optimizer = GradientDescent(surrogate=surrogate)\n",
    "\n",
    "# Both are then passed to our sequential model.\n",
    "model = Sequential(surrogate=surrogate, optimizer=optimizer)\n",
    "\n",
    "# start optimizing\n",
    "res = model.minimize(sphere, bounds, 100)"
   ]
  },
  {
   "cell_type": "code",
   "execution_count": 5,
   "metadata": {},
   "outputs": [
    {
     "data": {
      "image/png": "[encoded data removed]",
      "text/plain": [
       "<Figure size 432x288 with 1 Axes>"
      ]
     },
     "metadata": {
      "needs_background": "light"
     },
     "output_type": "display_data"
    },
    {
     "name": "stdout",
     "output_type": "stream",
     "text": [
      "0.24640630684102582\n"
     ]
    }
   ],
   "source": [
    "plt.plot(res['y'])\n",
    "plt.ylabel('Loss')\n",
    "plt.xlabel('No. of function evaluations')\n",
    "plt.show()\n",
    "print(res['y_sol'])"
   ]
  },
  {
   "cell_type": "markdown",
   "metadata": {},
   "source": [
    "### 1.2 Gradient Descent Bisection"
   ]
  },
  {
   "cell_type": "code",
   "execution_count": 6,
   "metadata": {},
   "outputs": [
    {
     "name": "stderr",
     "output_type": "stream",
     "text": [
      " 45%|████████████████████████████████████▍                                            | 45/100 [00:00<00:00, 67.99it/s]"
     ]
    },
    {
     "name": "stdout",
     "output_type": "stream",
     "text": [
      "Sampling 38 random points.\n",
      "Random function evaluations. This might take a while.\n",
      "Finding optimum...\n"
     ]
    },
    {
     "name": "stderr",
     "output_type": "stream",
     "text": [
      "100%|████████████████████████████████████████████████████████████████████████████████| 100/100 [00:00<00:00, 68.48it/s]\n"
     ]
    }
   ],
   "source": [
    "# Define surrogate\n",
    "surrogate = NoModel()\n",
    "\n",
    "# Define optimizer. Because the optimizer works on the surrogate, the surrogate must be passed.\n",
    "optimizer = GradientDescentBisection(surrogate=surrogate)\n",
    "\n",
    "# Both are then passed to our sequential model.\n",
    "model = Sequential(surrogate=surrogate, optimizer=optimizer)\n",
    "\n",
    "# start optimizing\n",
    "res = model.minimize(sphere, bounds, 100)"
   ]
  },
  {
   "cell_type": "code",
   "execution_count": 7,
   "metadata": {},
   "outputs": [
    {
     "data": {
      "image/png": "[encoded data removed]",
      "text/plain": [
       "<Figure size 432x288 with 1 Axes>"
      ]
     },
     "metadata": {
      "needs_background": "light"
     },
     "output_type": "display_data"
    },
    {
     "name": "stdout",
     "output_type": "stream",
     "text": [
      "0.0012249570872471904\n"
     ]
    }
   ],
   "source": [
    "plt.plot(res['y'])\n",
    "plt.ylabel('Loss')\n",
    "plt.xlabel('No. of function evaluations')\n",
    "plt.show()\n",
    "print(res['y_sol'])"
   ]
  },
  {
   "cell_type": "markdown",
   "metadata": {},
   "source": [
    "### 1.3 Adam"
   ]
  },
  {
   "cell_type": "code",
   "execution_count": 8,
   "metadata": {},
   "outputs": [
    {
     "name": "stderr",
     "output_type": "stream",
     "text": [
      " 41%|█████████████████████████████████▏                                               | 41/100 [00:00<00:05, 11.68it/s]"
     ]
    },
    {
     "name": "stdout",
     "output_type": "stream",
     "text": [
      "Sampling 38 random points.\n",
      "Random function evaluations. This might take a while.\n",
      "Finding optimum...\n"
     ]
    },
    {
     "name": "stderr",
     "output_type": "stream",
     "text": [
      "100%|████████████████████████████████████████████████████████████████████████████████| 100/100 [00:06<00:00,  9.25it/s]\n"
     ]
    }
   ],
   "source": [
    "# Define surrogate\n",
    "surrogate = NoModel()\n",
    "\n",
    "# Define optimizer. Because the optimizer works on the surrogate, the surrogate must be passed.\n",
    "optimizer = Adam(surrogate=surrogate)\n",
    "\n",
    "# Both are then passed to our sequential model.\n",
    "model = Sequential(surrogate=surrogate, optimizer=optimizer)\n",
    "\n",
    "# start optimizing\n",
    "res = model.minimize(sphere, bounds, 100)"
   ]
  },
  {
   "cell_type": "code",
   "execution_count": 9,
   "metadata": {},
   "outputs": [
    {
     "data": {
      "image/png": "[encoded data removed]",
      "text/plain": [
       "<Figure size 432x288 with 1 Axes>"
      ]
     },
     "metadata": {
      "needs_background": "light"
     },
     "output_type": "display_data"
    },
    {
     "name": "stdout",
     "output_type": "stream",
     "text": [
      "0.03735126820517725\n"
     ]
    }
   ],
   "source": [
    "plt.plot(res['y'])\n",
    "plt.ylabel('Loss')\n",
    "plt.xlabel('No. of function evaluations')\n",
    "plt.show()\n",
    "print(res['y_sol'])"
   ]
  },
  {
   "cell_type": "markdown",
   "metadata": {},
   "source": [
    "### 1.4 Adam Bisection"
   ]
  },
  {
   "cell_type": "code",
   "execution_count": 10,
   "metadata": {},
   "outputs": [
    {
     "name": "stderr",
     "output_type": "stream",
     "text": [
      " 40%|████████████████████████████████▍                                                | 40/100 [00:00<00:04, 13.80it/s]"
     ]
    },
    {
     "name": "stdout",
     "output_type": "stream",
     "text": [
      "Sampling 38 random points.\n",
      "Random function evaluations. This might take a while.\n",
      "Finding optimum...\n"
     ]
    },
    {
     "name": "stderr",
     "output_type": "stream",
     "text": [
      "100%|████████████████████████████████████████████████████████████████████████████████| 100/100 [00:08<00:00,  7.56it/s]\n"
     ]
    }
   ],
   "source": [
    "# Define surrogate\n",
    "surrogate = NoModel()\n",
    "\n",
    "# Define optimizer. Because the optimizer works on the surrogate, the surrogate must be passed.\n",
    "optimizer = AdamBisection(surrogate=surrogate)\n",
    "\n",
    "# Both are then passed to our sequential model.\n",
    "model = Sequential(surrogate=surrogate, optimizer=optimizer)\n",
    "\n",
    "# start optimizing\n",
    "res = model.minimize(sphere, bounds, 100)"
   ]
  },
  {
   "cell_type": "code",
   "execution_count": 11,
   "metadata": {},
   "outputs": [
    {
     "data": {
      "image/png": "[encoded data removed]",
      "text/plain": [
       "<Figure size 432x288 with 1 Axes>"
      ]
     },
     "metadata": {
      "needs_background": "light"
     },
     "output_type": "display_data"
    },
    {
     "name": "stdout",
     "output_type": "stream",
     "text": [
      "0.11659335106246778\n"
     ]
    }
   ],
   "source": [
    "plt.plot(res['y'])\n",
    "plt.ylabel('Loss')\n",
    "plt.xlabel('No. of function evaluations')\n",
    "plt.show()\n",
    "print(res['y_sol'])"
   ]
  },
  {
   "cell_type": "markdown",
   "metadata": {},
   "source": [
    "### 1.5 AMSGrad"
   ]
  },
  {
   "cell_type": "code",
   "execution_count": 12,
   "metadata": {},
   "outputs": [
    {
     "name": "stderr",
     "output_type": "stream",
     "text": [
      " 40%|████████████████████████████████▍                                                | 40/100 [00:00<00:04, 14.93it/s]"
     ]
    },
    {
     "name": "stdout",
     "output_type": "stream",
     "text": [
      "Sampling 38 random points.\n",
      "Random function evaluations. This might take a while.\n",
      "Finding optimum...\n"
     ]
    },
    {
     "name": "stderr",
     "output_type": "stream",
     "text": [
      "100%|████████████████████████████████████████████████████████████████████████████████| 100/100 [00:03<00:00, 17.73it/s]\n"
     ]
    }
   ],
   "source": [
    "# Define surrogate\n",
    "surrogate = NoModel()\n",
    "\n",
    "# Define optimizer. Because the optimizer works on the surrogate, the surrogate must be passed.\n",
    "optimizer = AMSGrad(surrogate=surrogate)\n",
    "\n",
    "# Both are then passed to our sequential model.\n",
    "model = Sequential(surrogate=surrogate, optimizer=optimizer)\n",
    "\n",
    "# start optimizing\n",
    "res = model.minimize(sphere, bounds, 100)"
   ]
  },
  {
   "cell_type": "code",
   "execution_count": 13,
   "metadata": {},
   "outputs": [
    {
     "data": {
      "image/png": "[encoded data removed]",
      "text/plain": [
       "<Figure size 432x288 with 1 Axes>"
      ]
     },
     "metadata": {
      "needs_background": "light"
     },
     "output_type": "display_data"
    },
    {
     "name": "stdout",
     "output_type": "stream",
     "text": [
      "0.0003512487415361904\n"
     ]
    }
   ],
   "source": [
    "plt.plot(res['y'])\n",
    "plt.ylabel('Loss')\n",
    "plt.xlabel('No. of function evaluations')\n",
    "plt.show()\n",
    "print(res['y_sol'])"
   ]
  },
  {
   "cell_type": "markdown",
   "metadata": {},
   "source": [
    "### 1.6 AMSGrad Bisection"
   ]
  },
  {
   "cell_type": "code",
   "execution_count": 14,
   "metadata": {},
   "outputs": [
    {
     "name": "stderr",
     "output_type": "stream",
     "text": [
      " 40%|████████████████████████████████▍                                                | 40/100 [00:00<00:04, 13.61it/s]"
     ]
    },
    {
     "name": "stdout",
     "output_type": "stream",
     "text": [
      "Sampling 38 random points.\n",
      "Random function evaluations. This might take a while.\n",
      "Finding optimum...\n"
     ]
    },
    {
     "name": "stderr",
     "output_type": "stream",
     "text": [
      "100%|████████████████████████████████████████████████████████████████████████████████| 100/100 [00:08<00:00,  7.24it/s]\n"
     ]
    }
   ],
   "source": [
    "# Define surrogate\n",
    "surrogate = NoModel()\n",
    "\n",
    "# Define optimizer. Because the optimizer works on the surrogate, the surrogate must be passed.\n",
    "optimizer = AMSGradBisection(surrogate=surrogate)\n",
    "\n",
    "# Both are then passed to our sequential model.\n",
    "model = Sequential(surrogate=surrogate, optimizer=optimizer)\n",
    "\n",
    "# start optimizing\n",
    "res = model.minimize(sphere, bounds, 100)"
   ]
  },
  {
   "cell_type": "code",
   "execution_count": 15,
   "metadata": {},
   "outputs": [
    {
     "data": {
      "image/png": "[encoded data removed]",
      "text/plain": [
       "<Figure size 432x288 with 1 Axes>"
      ]
     },
     "metadata": {
      "needs_background": "light"
     },
     "output_type": "display_data"
    },
    {
     "name": "stdout",
     "output_type": "stream",
     "text": [
      "0.8465951754586993\n"
     ]
    }
   ],
   "source": [
    "plt.plot(res['y'])\n",
    "plt.ylabel('Loss')\n",
    "plt.xlabel('No. of function evaluations')\n",
    "plt.show()\n",
    "print(res['y_sol'])"
   ]
  },
  {
   "cell_type": "code",
   "execution_count": null,
   "metadata": {},
   "outputs": [],
   "source": []
  }
 ],
 "metadata": {
  "kernelspec": {
   "display_name": "Masterthesis",
   "language": "python",
   "name": "myenv"
  },
  "language_info": {
   "codemirror_mode": {
    "name": "ipython",
    "version": 3
   },
   "file_extension": ".py",
   "mimetype": "text/x-python",
   "name": "python",
   "nbconvert_exporter": "python",
   "pygments_lexer": "ipython3",
   "version": "3.8.2"
  }
 },
 "nbformat": 4,
 "nbformat_minor": 4
}
