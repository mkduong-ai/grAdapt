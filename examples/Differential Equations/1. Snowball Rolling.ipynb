{
 "cells": [
  {
   "cell_type": "markdown",
   "metadata": {},
   "source": [
    "## 1. Introduction\n",
    "Objective code taken from https://github.com/abe-mart/alphaopt/blob/master/Snowball%20Optimization/Python%20Version/snowball.py\n",
    "Paper: \"Comparative kinetics of the snowball respect to other dynamical objects\" (2013, Rodolfo A. Diaz et al.)\n",
    "\n",
    "Objective: Find the minimal mass of the initial snowball to roll down the hill and strike the tree with enough force. 25000 Newton needed to strike down the tree. Consider: snowball growth, gravity, air density, mass, force, etc."
   ]
  },
  {
   "cell_type": "markdown",
   "metadata": {},
   "source": [
    "## 2."
   ]
  },
  {
   "cell_type": "markdown",
   "metadata": {},
   "source": [
    "### 2.1 Define task and black-box"
   ]
  },
  {
   "cell_type": "code",
   "execution_count": 1,
   "metadata": {},
   "outputs": [],
   "source": [
    "import os\n",
    "plot_path = 'plots/'\n",
    "if not os.path.exists(plot_path):\n",
    "    os.makedirs(plot_path)"
   ]
  },
  {
   "cell_type": "code",
   "execution_count": 2,
   "metadata": {},
   "outputs": [
    {
     "name": "stdout",
     "output_type": "stream",
     "text": [
      "Optimization terminated successfully.\n",
      "         Current function value: 0.000000\n",
      "         Iterations: 7\n",
      "         Function evaluations: 27\n",
      "         Gradient evaluations: 9\n",
      "Initial Mass: 46.51960081989454 kg (93.96959365618697 lbs)\n",
      "Initial Radius: 31.65870226849633 cm (12.464031083107004 inches)\n",
      "Final Force: 22345.755524150416\n",
      "Final Position: 219.47582030729484\n",
      "Final Velocity: 14.13658179017689\n"
     ]
    },
    {
     "data": {
      "text/plain": [
       "<matplotlib.legend.Legend at 0x28c8c1d94f0>"
      ]
     },
     "execution_count": 2,
     "metadata": {},
     "output_type": "execute_result"
    },
    {
     "data": {
      "image/png": "[encoded data removed]",
      "text/plain": [
       "<Figure size 432x288 with 1 Axes>"
      ]
     },
     "metadata": {
      "needs_background": "light"
     },
     "output_type": "display_data"
    }
   ],
   "source": [
    "# -*- coding: utf-8 -*-\n",
    "\n",
    "import numpy as np # General numerics\n",
    "from scipy.integrate import odeint # Integration\n",
    "from scipy.optimize import minimize # Optimization\n",
    "import matplotlib.pyplot as plt # Plotting\n",
    "\n",
    "# Define System Parameters\n",
    "K0 = 85 # Snowball growth factor 1\n",
    "beta = 0.07 # Snowball growth factor 2\n",
    "C_d = 0.3 # Drag coefficient\n",
    "g = 9.8 # Gravity\n",
    "rho = 350 # Snow density\n",
    "theta = np.radians(5) # Slope\n",
    "rho_a = 0.9 # Air density\n",
    "\n",
    "# Initial Snowball Conditions\n",
    "m0 = 10 # Initial mass\n",
    "v0 = 0 # Initial velocity\n",
    "r0 = (m0/(4/3.0*np.pi*rho))**(1/3.0) # Initial radius\n",
    "s0 = 0 # Initial position\n",
    "\n",
    "# Target force\n",
    "F_d = 25000\n",
    "\n",
    "# Set up time array to solve for 30 seconds\n",
    "t = np.linspace(0,30)\n",
    "\n",
    "# This function defines the dynamics of our snowball, the equations of motion\n",
    "# and the rate at which it changes size and mass.\n",
    "def snowball_dynamics(w,t,p):\n",
    "    \n",
    "    # unpack state variables\n",
    "    M,r,s,v = w\n",
    "    \n",
    "    # unpack parameters\n",
    "    K0,C_d,g,rho,theta,rho_a,beta = p\n",
    "    \n",
    "    # Make an array of the right hand sides of the four differential equations that make up our system.\n",
    "    f = [beta * K0 * np.exp(-beta*t),\n",
    "         (beta * K0 * np.exp(-beta*t))/(4*np.pi*rho*r**2),\n",
    "         v,\n",
    "         (-15*rho_a*C_d)/(56*rho)*1/r*v**2 - 23/7*1/r*beta*K0*np.exp(-beta*t)/(4*np.pi*rho*r**2)*v+5/7*g*np.sin(theta)]\n",
    "    return f\n",
    "\n",
    "# This is the objective function of our optimization.  The optimizer will attempt\n",
    "# to minimize the output of this function by changing the initial snowball mass.\n",
    "def objective(m0):\n",
    "    \n",
    "    # Load parameters\n",
    "    p = [K0,C_d,g,rho,theta,rho_a,beta]\n",
    "    \n",
    "    # Get initial radius from initial mass\n",
    "    r0 = (m0/(4/3.0*np.pi*rho))**(1/3.0)\n",
    "    \n",
    "    # Set initial guesses\n",
    "    w0 = [m0,r0,s0,v0]\n",
    "    \n",
    "    # Integrate forward for 60 seconds\n",
    "    sol = odeint(snowball_dynamics,w0,t,args=(p,))\n",
    "    \n",
    "    # Calculate kinetic energy at the end of the run\n",
    "    ke = 0.5 * sol[:,0][-1] * sol[:,3][-1]**2\n",
    "\n",
    "    # Calculate force required to stop snowball in one snowball radius\n",
    "    F = ke / sol[:,1][-1]\n",
    "    \n",
    "    # Compare to desired force : This should equal zero when we are done\n",
    "    obj = (F - F_d)**2\n",
    "    \n",
    "    return obj\n",
    "\n",
    "# Call optimization using the functions defined above\n",
    "res = minimize(objective,m0,options={'disp':True},)    \n",
    "\n",
    "# Get optimized initial mass from solution\n",
    "m0_opt = res.x[0]\n",
    "\n",
    "# Calculate optimized initial radius from initial mass\n",
    "r0_opt = (m0_opt/(4/3.0*np.pi*rho))**(1/3.0)\n",
    "\n",
    "print('Initial Mass: ' + str(m0_opt) + ' kg (' + str(m0_opt*2.02) + ' lbs)')\n",
    "print('Initial Radius: ' + str(r0_opt*100) + ' cm (' + str(r0_opt*39.37) + ' inches)')\n",
    "\n",
    "# Just to prove to ourselves that the answer is correct, let's calculate\n",
    "# the final force using the optimized initial conditions\n",
    "\n",
    "# Set initial conditions\n",
    "w0 = [m0_opt,r0_opt,s0,v0]\n",
    "\n",
    "# Load parameters\n",
    "p = [m0_opt,C_d,g,rho,theta,rho_a,beta]\n",
    "\n",
    "# Integrate forward\n",
    "sol = odeint(snowball_dynamics,w0,t,args=(p,))\n",
    "\n",
    "# Get kinetic energy\n",
    "ke = 0.5 * sol[:,0][-1] * sol[:,3][-1]**2\n",
    "\n",
    "# Get final stopping force\n",
    "F = ke / sol[:,1][-1]\n",
    "print('Final Force: ' + str(F))\n",
    "\n",
    "# Final Position\n",
    "print('Final Position: ' + str(sol[:,2][-1]))\n",
    "print('Final Velocity: ' + str(sol[:,3][-1]))\n",
    "\n",
    "# And some plots of the results\n",
    "plt.figure()\n",
    "plt.plot(t,sol[:,0],label='Mass')\n",
    "plt.plot(t,sol[:,1],label='Radius')\n",
    "plt.plot(t,sol[:,2],label='Position')\n",
    "plt.plot(t,sol[:,3],label='Velocity')\n",
    "plt.title('Snowball')\n",
    "plt.xlabel('Time (s)')\n",
    "plt.legend()"
   ]
  },
  {
   "cell_type": "markdown",
   "metadata": {},
   "source": [
    "### 2.2. Plot of objective"
   ]
  },
  {
   "cell_type": "code",
   "execution_count": 3,
   "metadata": {},
   "outputs": [],
   "source": [
    "xn = np.linspace(1, 100, 1000)\n",
    "yn = np.array(list(map(objective, xn)))"
   ]
  },
  {
   "cell_type": "code",
   "execution_count": 4,
   "metadata": {},
   "outputs": [
    {
     "data": {
      "image/png": "[encoded data removed]",
      "text/plain": [
       "<Figure size 540x324 with 1 Axes>"
      ]
     },
     "metadata": {
      "needs_background": "light"
     },
     "output_type": "display_data"
    }
   ],
   "source": [
    "plt.figure(figsize=(7.5, 4.5))\n",
    "plt.plot(xn, yn)#, s=1)\n",
    "plt.yscale('log')\n",
    "plt.xlabel('Mass')\n",
    "plt.ylabel('Function value (log scale)')\n",
    "\n",
    "plot_filepath = plot_path+'objective.pdf'\n",
    "plt.savefig(plot_filepath, bbox_inches='tight')\n",
    "# plt.legend()"
   ]
  },
  {
   "cell_type": "markdown",
   "metadata": {},
   "source": [
    "## 3. Find optimal initial weight to strike down tree with grAdapt"
   ]
  },
  {
   "cell_type": "code",
   "execution_count": 5,
   "metadata": {},
   "outputs": [],
   "source": [
    "# grAdapt\n",
    "import grAdapt\n",
    "from grAdapt.space.datatype import Float\n",
    "from grAdapt.models import Sequential\n",
    "from grAdapt.optimizer import AMSGradBisection\n",
    "from grAdapt.surrogate import GPRSlidingWindow"
   ]
  },
  {
   "cell_type": "code",
   "execution_count": 6,
   "metadata": {},
   "outputs": [],
   "source": [
    "n_evals = 1000\n",
    "mass = Float(1, 100)\n",
    "bounds = [mass]"
   ]
  },
  {
   "cell_type": "code",
   "execution_count": 7,
   "metadata": {},
   "outputs": [
    {
     "name": "stderr",
     "output_type": "stream",
     "text": [
      "  6%|████▋                                                                          | 59/1000 [00:00<00:01, 553.74it/s]"
     ]
    },
    {
     "name": "stdout",
     "output_type": "stream",
     "text": [
      "Sampling 153 random points.\n",
      "Random function evaluations. This might take a while.\n"
     ]
    },
    {
     "name": "stderr",
     "output_type": "stream",
     "text": [
      " 16%|████████████▍                                                                  | 157/1000 [00:00<00:21, 38.97it/s]"
     ]
    },
    {
     "name": "stdout",
     "output_type": "stream",
     "text": [
      "Finding optimum...\n"
     ]
    },
    {
     "name": "stderr",
     "output_type": "stream",
     "text": [
      "100%|██████████████████████████████████████████████████████████████████████████████| 1000/1000 [00:25<00:00, 38.92it/s]\n"
     ]
    }
   ],
   "source": [
    "surrogate = GPRSlidingWindow()\n",
    "optimizer = AMSGradBisection(surrogate=surrogate)\n",
    "model = Sequential(surrogate=surrogate, optimizer=optimizer, random_state=1)\n",
    "res = model.minimize(objective, bounds, n_evals)"
   ]
  },
  {
   "cell_type": "markdown",
   "metadata": {},
   "source": [
    "### 3.1. Optimal snowball mass (grAdapt vs scipy)"
   ]
  },
  {
   "cell_type": "code",
   "execution_count": 8,
   "metadata": {},
   "outputs": [
    {
     "data": {
      "text/plain": [
       "array([46.52086848])"
      ]
     },
     "execution_count": 8,
     "metadata": {},
     "output_type": "execute_result"
    }
   ],
   "source": [
    "# grAdapt solution\n",
    "res['x_sol']"
   ]
  },
  {
   "cell_type": "code",
   "execution_count": 9,
   "metadata": {},
   "outputs": [
    {
     "data": {
      "text/plain": [
       "701"
      ]
     },
     "execution_count": 9,
     "metadata": {},
     "output_type": "execute_result"
    }
   ],
   "source": [
    "np.argmax(res['x'] == res['x_sol'])"
   ]
  },
  {
   "cell_type": "code",
   "execution_count": 10,
   "metadata": {},
   "outputs": [
    {
     "data": {
      "text/plain": [
       "46.51960081989454"
      ]
     },
     "execution_count": 10,
     "metadata": {},
     "output_type": "execute_result"
    }
   ],
   "source": [
    "# scipy solution\n",
    "m0_opt"
   ]
  },
  {
   "cell_type": "markdown",
   "metadata": {},
   "source": [
    "### 3.2. Plot snowball mass overtime"
   ]
  },
  {
   "cell_type": "code",
   "execution_count": 11,
   "metadata": {
    "scrolled": true
   },
   "outputs": [
    {
     "data": {
      "image/png": "[encoded data removed]",
      "text/plain": [
       "<Figure size 288x216 with 1 Axes>"
      ]
     },
     "metadata": {
      "needs_background": "light"
     },
     "output_type": "display_data"
    }
   ],
   "source": [
    "plt.figure(figsize=(4,3))\n",
    "plt.scatter(np.arange(len(res['x'])), res['x'], s=2)\n",
    "plt.ylabel('Mass')\n",
    "plt.xlabel('Iteration')\n",
    "\n",
    "plot_filepath = plot_path+'mass_iteration.pdf'\n",
    "plt.savefig(plot_filepath, bbox_inches='tight')"
   ]
  },
  {
   "cell_type": "markdown",
   "metadata": {},
   "source": [
    "### 3.3. Plot Training Loss"
   ]
  },
  {
   "cell_type": "code",
   "execution_count": 12,
   "metadata": {},
   "outputs": [
    {
     "data": {
      "image/png": "[encoded data removed]",
      "text/plain": [
       "<Figure size 288x216 with 1 Axes>"
      ]
     },
     "metadata": {
      "needs_background": "light"
     },
     "output_type": "display_data"
    }
   ],
   "source": [
    "plt.figure(figsize=(4,3))\n",
    "plt.plot(res['y'])\n",
    "plt.ylabel('Loss')\n",
    "plt.xlabel('Iteration')\n",
    "#plt.yscale('log')\n",
    "\n",
    "plot_filepath = plot_path+'loss_iteration.pdf'\n",
    "plt.savefig(plot_filepath, bbox_inches='tight')"
   ]
  },
  {
   "cell_type": "markdown",
   "metadata": {},
   "source": [
    "### 3.4. Loss comparison (grAdapt vs scipy)"
   ]
  },
  {
   "cell_type": "code",
   "execution_count": 13,
   "metadata": {},
   "outputs": [
    {
     "data": {
      "text/plain": [
       "0.10113090475424588"
      ]
     },
     "execution_count": 13,
     "metadata": {},
     "output_type": "execute_result"
    }
   ],
   "source": [
    "# grAdapt\n",
    "objective(res['x_sol'])"
   ]
  },
  {
   "cell_type": "code",
   "execution_count": 14,
   "metadata": {},
   "outputs": [
    {
     "data": {
      "text/plain": [
       "46.51960081989454"
      ]
     },
     "execution_count": 14,
     "metadata": {},
     "output_type": "execute_result"
    }
   ],
   "source": [
    "m0_opt"
   ]
  },
  {
   "cell_type": "code",
   "execution_count": 15,
   "metadata": {},
   "outputs": [
    {
     "data": {
      "text/plain": [
       "array([46.52086848])"
      ]
     },
     "execution_count": 15,
     "metadata": {},
     "output_type": "execute_result"
    }
   ],
   "source": [
    "res['x_sol']"
   ]
  },
  {
   "cell_type": "code",
   "execution_count": 16,
   "metadata": {},
   "outputs": [
    {
     "data": {
      "text/plain": [
       "3.5001432618494765e-12"
      ]
     },
     "execution_count": 16,
     "metadata": {},
     "output_type": "execute_result"
    }
   ],
   "source": [
    "# scipy\n",
    "objective(m0_opt)"
   ]
  },
  {
   "cell_type": "code",
   "execution_count": 17,
   "metadata": {},
   "outputs": [
    {
     "data": {
      "text/plain": [
       "array([0.00126766])"
      ]
     },
     "execution_count": 17,
     "metadata": {},
     "output_type": "execute_result"
    }
   ],
   "source": [
    "np.abs(res['x_sol']-m0_opt)"
   ]
  }
 ],
 "metadata": {
  "kernelspec": {
   "display_name": "Masterthesis",
   "language": "python",
   "name": "myenv"
  },
  "language_info": {
   "codemirror_mode": {
    "name": "ipython",
    "version": 3
   },
   "file_extension": ".py",
   "mimetype": "text/x-python",
   "name": "python",
   "nbconvert_exporter": "python",
   "pygments_lexer": "ipython3",
   "version": "3.8.2"
  }
 },
 "nbformat": 4,
 "nbformat_minor": 4
}
